{
 "cells": [
  {
   "cell_type": "markdown",
   "id": "2281492a-d100-45df-894c-9a0e50cbefc9",
   "metadata": {},
   "source": [
    "# Ruckus Bot"
   ]
  },
  {
   "cell_type": "markdown",
   "id": "6216a3be-754c-4af6-af93-c8d65f5e11b3",
   "metadata": {},
   "source": [
    "### Steps to take\n",
    "\n",
    "1. Download Uncle Ruckus Videos \n",
    "2. Transcribe the videos\n",
    "3. Store text in txt files\n",
    "4. Create Embeddings of the Text\n",
    "5. Explore Vector Databases\n",
    "6. test"
   ]
  },
  {
   "cell_type": "code",
   "execution_count": null,
   "id": "69b2f515-6622-49a3-bbf8-a8eac51a0187",
   "metadata": {},
   "outputs": [],
   "source": []
  }
 ],
 "metadata": {
  "kernelspec": {
   "display_name": "Python 3 (ipykernel)",
   "language": "python",
   "name": "python3"
  },
  "language_info": {
   "codemirror_mode": {
    "name": "ipython",
    "version": 3
   },
   "file_extension": ".py",
   "mimetype": "text/x-python",
   "name": "python",
   "nbconvert_exporter": "python",
   "pygments_lexer": "ipython3",
   "version": "3.9.13"
  }
 },
 "nbformat": 4,
 "nbformat_minor": 5
}
