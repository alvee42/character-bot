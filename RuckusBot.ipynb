{
  "cells": [
    {
      "cell_type": "markdown",
      "id": "2281492a-d100-45df-894c-9a0e50cbefc9",
      "metadata": {
        "id": "2281492a-d100-45df-894c-9a0e50cbefc9"
      },
      "source": [
        "# Ruckus Bot"
      ]
    },
    {
      "cell_type": "markdown",
      "id": "6216a3be-754c-4af6-af93-c8d65f5e11b3",
      "metadata": {
        "id": "6216a3be-754c-4af6-af93-c8d65f5e11b3"
      },
      "source": [
        "### Steps to take\n",
        "\n",
        "1. Download Uncle Ruckus Videos\n",
        "2. Transcribe the videos\n",
        "3. Store text in txt files\n",
        "4. Create Embeddings of the Text\n",
        "5. Explore Vector Databases\n",
        "6. test\n",
        "7. test 2\n"
      ]
    },
    {
      "cell_type": "markdown",
      "id": "wqwBAnPLoXtV",
      "metadata": {
        "id": "wqwBAnPLoXtV"
      },
      "source": [
        "# TEST CODE"
      ]
    },
    {
      "cell_type": "code",
      "execution_count": 14,
      "id": "69b2f515-6622-49a3-bbf8-a8eac51a0187",
      "metadata": {
        "colab": {
          "base_uri": "https://localhost:8080/"
        },
        "id": "69b2f515-6622-49a3-bbf8-a8eac51a0187",
        "outputId": "f5242fdb-7433-4fcb-9175-81737702fcfd"
      },
      "outputs": [
        {
          "name": "stdout",
          "output_type": "stream",
          "text": [
            "Requirement already satisfied: pytube3 in /usr/local/lib/python3.10/dist-packages (9.6.4)\n",
            "Requirement already satisfied: pyttsx3 in /usr/local/lib/python3.10/dist-packages (2.90)\n",
            "Requirement already satisfied: pydub in /usr/local/lib/python3.10/dist-packages (0.25.1)\n",
            "Requirement already satisfied: typing-extensions in /usr/local/lib/python3.10/dist-packages (from pytube3) (4.5.0)\n"
          ]
        }
      ],
      "source": [
        "\n"
      ]
    },
    {
      "cell_type": "code",
      "execution_count": 16,
      "id": "hk26K1S9ngC6",
      "metadata": {
        "colab": {
          "base_uri": "https://localhost:8080/"
        },
        "id": "hk26K1S9ngC6",
        "outputId": "69629dcc-bca2-4e3b-c66a-d4cf624d9d37"
      },
      "outputs": [
        {
          "name": "stdout",
          "output_type": "stream",
          "text": [
            "Enter YouTube video URL: https://www.youtube.com/watch?v=knQWlri5GGw\n",
            "Error downloading audio: HTTP Error 410: Gone\n",
            "Error processing audio: [Errno 2] No such file or directory: 'audio.mp3'\n"
          ]
        }
      ],
      "source": [
        "import pyttsx3\n",
        "from pytube import YouTube\n",
        "from pydub import AudioSegment\n",
        "from pydub.playback import play\n",
        "from pydub.silence import split_on_silence\n",
        "from youtube_transcript_api import YouTubeTranscriptApi\n",
        "\n",
        "def download_audio(video_url, output_file=\"audio.mp3\"):\n",
        "    try:\n",
        "        # Download YouTube video\n",
        "        yt = YouTube(video_url)\n",
        "        if not yt.streams.filter(only_audio=True).first():\n",
        "            raise Exception(\"No audio stream available for the video.\")\n",
        "\n",
        "        yt.streams.filter(only_audio=True).first().download(output_file)\n",
        "\n",
        "    except Exception as e:\n",
        "        print(f\"Error downloading audio: {e}\")\n",
        "\n",
        "def transcribe_audio(audio_file):\n",
        "    try:\n",
        "        # Load the audio file\n",
        "        sound = AudioSegment.from_file(audio_file)\n",
        "\n",
        "        # Split on silence (adjust parameters as needed)\n",
        "        audio_chunks = split_on_silence(sound, silence_thresh=sound.dBFS - 14)\n",
        "\n",
        "        # Concatenate audio chunks\n",
        "        concatenated_audio = sum(audio_chunks)\n",
        "\n",
        "        # Play the audio\n",
        "        play(concatenated_audio)\n",
        "\n",
        "        # Transcribe using YouTube Transcript API\n",
        "        video_id = YouTube(audio_file).video_id\n",
        "        transcript = YouTubeTranscriptApi.get_transcript(video_id)\n",
        "\n",
        "        # Concatenate transcript text\n",
        "        text = ' '.join([entry['text'] for entry in transcript])\n",
        "\n",
        "        return text\n",
        "\n",
        "    except Exception as e:\n",
        "        print(f\"Error processing audio: {e}\")\n",
        "        return None\n",
        "\n",
        "def text_to_speech(text):\n",
        "    # Initialize the TTS engine\n",
        "    engine = pyttsx3.init()\n",
        "\n",
        "    # Set properties (optional)\n",
        "    engine.setProperty('rate', 150)  # Speed of speech\n",
        "\n",
        "    # Speak the text\n",
        "    engine.say(text)\n",
        "\n",
        "    # Wait for the speech to finish\n",
        "    engine.runAndWait()\n",
        "\n",
        "def main():\n",
        "    video_url = input(\"Enter YouTube video URL: \")\n",
        "\n",
        "    # Download audio\n",
        "    audio_file = \"audio.mp3\"\n",
        "    download_audio(video_url, audio_file)\n",
        "\n",
        "    # Transcribe audio\n",
        "    transcript_text = transcribe_audio(audio_file)\n",
        "\n",
        "    if transcript_text:\n",
        "        # Print transcript\n",
        "        print(\"Transcript:\")\n",
        "        print(transcript_text)\n",
        "\n",
        "        # Convert text to speech\n",
        "        text_to_speech(transcript_text)\n",
        "\n",
        "if __name__ == \"__main__\":\n",
        "    main()\n"
      ]
    }
  ],
  "metadata": {
    "colab": {
      "provenance": [],
      "toc_visible": true
    },
    "kernelspec": {
      "display_name": "Python 3 (ipykernel)",
      "language": "python",
      "name": "python3"
    },
    "language_info": {
      "codemirror_mode": {
        "name": "ipython",
        "version": 3
      },
      "file_extension": ".py",
      "mimetype": "text/x-python",
      "name": "python",
      "nbconvert_exporter": "python",
      "pygments_lexer": "ipython3",
      "version": "3.9.13"
    }
  },
  "nbformat": 4,
  "nbformat_minor": 5
}
