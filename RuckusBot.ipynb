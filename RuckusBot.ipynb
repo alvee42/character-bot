{
  "cells": [
    {
      "cell_type": "markdown",
      "id": "2281492a-d100-45df-894c-9a0e50cbefc9",
      "metadata": {
        "id": "2281492a-d100-45df-894c-9a0e50cbefc9"
      },
      "source": [
        "# Ruckus Bot"
      ]
    },
    {
      "cell_type": "markdown",
      "id": "6216a3be-754c-4af6-af93-c8d65f5e11b3",
      "metadata": {
        "id": "6216a3be-754c-4af6-af93-c8d65f5e11b3"
      },
      "source": [
        "### Steps to take\n",
        "\n",
        "1. Download Uncle Ruckus Videos\n",
        "2. Transcribe the videos\n",
        "3. Store text in txt files\n",
        "4. Create Embeddings of the Text\n",
        "5. Explore Vector Databases\n",
        "6. test\n",
        "7. test 2\n"
      ]
    },
    {
      "cell_type": "markdown",
      "id": "wqwBAnPLoXtV",
      "metadata": {
        "id": "wqwBAnPLoXtV"
      },
      "source": [
        "# TEST CODE"
      ]
    },
    {
      "cell_type": "code",
      "execution_count": 1,
      "id": "69b2f515-6622-49a3-bbf8-a8eac51a0187",
      "metadata": {
        "colab": {
          "base_uri": "https://localhost:8080/"
        },
        "id": "69b2f515-6622-49a3-bbf8-a8eac51a0187",
        "outputId": "77a9cf5c-f256-4955-e0a7-484c14101a85"
      },
      "outputs": [
        {
          "output_type": "stream",
          "name": "stdout",
          "text": [
            "Requirement already satisfied: pytube in /usr/local/lib/python3.10/dist-packages (15.0.0)\n"
          ]
        }
      ],
      "source": [
        "pip install pytube\n"
      ]
    },
    {
      "cell_type": "code",
      "source": [
        "from pytube import YouTube\n",
        "\n",
        "def download_youtube_video(video_url, output_path=\".\"):\n",
        "    try:\n",
        "        # Create a YouTube object\n",
        "        yt = YouTube(video_url)\n",
        "\n",
        "        # Get the highest resolution stream\n",
        "        video_stream = yt.streams.get_highest_resolution()\n",
        "\n",
        "        # Download the video\n",
        "        print(f\"Downloading: {yt.title}\")\n",
        "        video_stream.download(output_path)\n",
        "        print(\"Download complete!\")\n",
        "\n",
        "    except Exception as e:\n",
        "        print(f\"An error occurred: {str(e)}\")\n",
        "\n",
        "# Example usage\n",
        "video_url = \"\"\n",
        "download_youtube_video(video_url, output_path=\"/path/to/save/video\")"
      ],
      "metadata": {
        "id": "FNnqjdUYF4hw"
      },
      "id": "FNnqjdUYF4hw",
      "execution_count": null,
      "outputs": []
    }
  ],
  "metadata": {
    "colab": {
      "provenance": [],
      "toc_visible": true
    },
    "kernelspec": {
      "display_name": "Python 3 (ipykernel)",
      "language": "python",
      "name": "python3"
    },
    "language_info": {
      "codemirror_mode": {
        "name": "ipython",
        "version": 3
      },
      "file_extension": ".py",
      "mimetype": "text/x-python",
      "name": "python",
      "nbconvert_exporter": "python",
      "pygments_lexer": "ipython3",
      "version": "3.9.13"
    }
  },
  "nbformat": 4,
  "nbformat_minor": 5
}